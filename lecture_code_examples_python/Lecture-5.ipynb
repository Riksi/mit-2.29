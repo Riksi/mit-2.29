{
 "cells": [
  {
   "cell_type": "code",
   "execution_count": 1,
   "id": "221decf2-c712-4608-a722-e3e8cd77ae76",
   "metadata": {
    "tags": []
   },
   "outputs": [],
   "source": [
    "import numpy as np\n",
    "from utils import radd"
   ]
  },
  {
   "cell_type": "markdown",
   "id": "4c55280c-dfd1-4c04-a61c-8707645f5962",
   "metadata": {},
   "source": [
    "## Gauss Elimination: Pivoting Example"
   ]
  },
  {
   "cell_type": "code",
   "execution_count": 16,
   "id": "54645e84-cdc5-422a-9193-5a178151e5fe",
   "metadata": {
    "tags": []
   },
   "outputs": [
    {
     "data": {
      "text/plain": [
       "array([[ 0],\n",
       "       [-1]])"
      ]
     },
     "execution_count": 16,
     "metadata": {},
     "output_type": "execute_result"
    }
   ],
   "source": [
    "# tbt.m\n",
    "n = 2\n",
    "a = np.c_[np.r_[0.01, 1.], np.r_[-1.0, 0.01]]\n",
    "b = np.c_[np.r_[1, 1]]\n",
    "r = a ** (-1) * b\n",
    "x = np.r_[0, 0]\n",
    "m21 = a[1, 0] / a[0, 0]\n",
    "a[1, 0] = 0\n",
    "a[1, 1] = radd(a[1, 1], -m21 * a[0, 1], n)\n",
    "b[1] = radd(b[1], -m21 * b[0], n)\n",
    "x[1] = b[1] / a[1, 1]\n",
    "x[0] = (radd(b[0], -a[0, 1] * x[1], n)) / a[0, 0]\n",
    "x[:, None]"
   ]
  },
  {
   "cell_type": "code",
   "execution_count": 17,
   "id": "f569ae9a-3519-41f6-bc18-492ec3094b37",
   "metadata": {},
   "outputs": [
    {
     "data": {
      "text/plain": [
       "(array([[   1.],\n",
       "        [-100.]]),\n",
       " array([[   1],\n",
       "        [-100]]))"
      ]
     },
     "execution_count": 17,
     "metadata": {},
     "output_type": "execute_result"
    }
   ],
   "source": [
    "a @ x[:, None], b"
   ]
  },
  {
   "cell_type": "code",
   "execution_count": 18,
   "id": "9fe88526-c550-4047-b51c-2ad89ef63626",
   "metadata": {},
   "outputs": [
    {
     "data": {
      "text/plain": [
       "array([[ 1],\n",
       "       [-1]])"
      ]
     },
     "execution_count": 18,
     "metadata": {},
     "output_type": "execute_result"
    }
   ],
   "source": [
    "# tbt2.m\n",
    "n = 1\n",
    "a = np.c_[np.r_[1., 0.01], np.r_[0.01, -1.]]\n",
    "b = np.c_[np.r_[1, 1]]\n",
    "r = a ** (-1) * b\n",
    "x = np.r_[0, 0]\n",
    "m21 = a[1, 0] / a[0, 0]\n",
    "a[1, 0] = 0\n",
    "a[1, 1] = radd(a[1, 1], -m21 * a[0, 1], n)\n",
    "b[1] = radd(b[1], -m21 * b[0], n)\n",
    "x[1] = b[1] / a[1, 1]\n",
    "x[0] = (radd(b[0], -a[0, 1] * x[1], n)) / a[0, 0]\n",
    "x[:, None]"
   ]
  },
  {
   "cell_type": "code",
   "execution_count": 19,
   "id": "a262296e-7145-4f5b-9ee7-f35c44c9e5a8",
   "metadata": {},
   "outputs": [
    {
     "data": {
      "text/plain": [
       "(array([[0.99],\n",
       "        [1.  ]]),\n",
       " array([[1],\n",
       "        [1]]))"
      ]
     },
     "execution_count": 19,
     "metadata": {},
     "output_type": "execute_result"
    }
   ],
   "source": [
    "a @ x[:, None], b"
   ]
  },
  {
   "cell_type": "markdown",
   "id": "7a53086a-3a46-4f7c-a8cf-7afc8ff64a64",
   "metadata": {},
   "source": [
    "## Gauss Elimination: Equation Scaling Example"
   ]
  },
  {
   "cell_type": "code",
   "execution_count": 20,
   "id": "671d2700-ef81-41db-bc95-03ea1563d719",
   "metadata": {},
   "outputs": [
    {
     "data": {
      "text/plain": [
       "array([[ 0],\n",
       "       [-1]])"
      ]
     },
     "execution_count": 20,
     "metadata": {},
     "output_type": "execute_result"
    }
   ],
   "source": [
    "n = 1\n",
    "a = np.c_[np.r_[2, 1.], np.r_[-200, 0.01]]\n",
    "b = np.c_[np.r_[200, 1]]\n",
    "r = a ** (-1) * b\n",
    "x = np.r_[0, 0]\n",
    "m21 = a[1, 0] / a[0, 0]\n",
    "a[1, 0] = 0\n",
    "a[1, 1] = radd(a[1, 1], -m21 * a[0, 1], n)\n",
    "b[1] = radd(b[1], -m21 * b[0], n)\n",
    "x[1] = b[1] / a[1, 1]\n",
    "x[0] = (radd(b[0], -a[0, 1] * x[1], n)) / a[0, 0]\n",
    "x[:, None]"
   ]
  },
  {
   "cell_type": "code",
   "execution_count": 21,
   "id": "8e264fbb-c6d3-4aa7-b12c-7fc4ae8354cc",
   "metadata": {},
   "outputs": [
    {
     "data": {
      "text/plain": [
       "(array([[ 200.],\n",
       "        [-100.]]),\n",
       " array([[ 200],\n",
       "        [-100]]))"
      ]
     },
     "execution_count": 21,
     "metadata": {},
     "output_type": "execute_result"
    }
   ],
   "source": [
    "a @ x[:, None], b"
   ]
  },
  {
   "cell_type": "markdown",
   "id": "d9f3b186-8243-4694-a9b2-2b6bace95766",
   "metadata": {},
   "source": [
    "## Gauss Elimination: Effect of variable transform (variable scaling)"
   ]
  },
  {
   "cell_type": "code",
   "execution_count": 22,
   "id": "d6ed16f8-0719-4301-922d-3d7d7392201b",
   "metadata": {},
   "outputs": [
    {
     "data": {
      "text/plain": [
       "array([[   0],\n",
       "       [-100]])"
      ]
     },
     "execution_count": 22,
     "metadata": {},
     "output_type": "execute_result"
    }
   ],
   "source": [
    "# tbt4.m\n",
    "n = 2\n",
    "a = np.c_[np.r_[1., 1.], np.r_[-1., 0.0001]]\n",
    "b = np.c_[np.r_[100, 1]]\n",
    "r = a ** (-1) * b\n",
    "x = np.r_[0, 0]\n",
    "m21 = a[1, 0] / a[0, 0]\n",
    "a[1, 0] = 0\n",
    "a[1, 1] = radd(a[1, 1], -m21 * a[0, 1], n)\n",
    "b[1] = radd(b[1], -m21 * b[0], n)\n",
    "x[1] = b[1] / a[1, 1]\n",
    "x[0] = (radd(b[0], -a[0, 1] * x[1], n)) / a[0, 0]\n",
    "x[:, None]"
   ]
  },
  {
   "cell_type": "code",
   "execution_count": 23,
   "id": "5fb6a72d-8bbd-461b-9668-6a8a8c7cd4f9",
   "metadata": {},
   "outputs": [
    {
     "data": {
      "text/plain": [
       "(array([[ 100.],\n",
       "        [-100.]]),\n",
       " array([[ 100],\n",
       "        [-100]]))"
      ]
     },
     "execution_count": 23,
     "metadata": {},
     "output_type": "execute_result"
    }
   ],
   "source": [
    "a @ x[:, None], b"
   ]
  }
 ],
 "metadata": {
  "kernelspec": {
   "display_name": "py3ml",
   "language": "python",
   "name": "py3ml"
  },
  "language_info": {
   "codemirror_mode": {
    "name": "ipython",
    "version": 3
   },
   "file_extension": ".py",
   "mimetype": "text/x-python",
   "name": "python",
   "nbconvert_exporter": "python",
   "pygments_lexer": "ipython3",
   "version": "3.9.12"
  }
 },
 "nbformat": 4,
 "nbformat_minor": 5
}
