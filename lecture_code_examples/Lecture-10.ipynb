{
 "cells": [
  {
   "cell_type": "code",
   "execution_count": 5,
   "id": "af74ab5f-bb76-49d1-a35f-77b3fdeb65f8",
   "metadata": {},
   "outputs": [
    {
     "name": "stdout",
     "output_type": "stream",
     "text": [
      "\n",
      "\n",
      " First order Forward difference: -1.1546875, with error: 26.541095890410972 %\n",
      "\n",
      "\n",
      "\n",
      " Second order Forward difference: -0.859375, with error: 5.821917808219176 %\n",
      "\n",
      "\n",
      "\n",
      " First order Backwards difference: -0.7140625000000003, with error: 21.74657534246572 %\n",
      "\n",
      "\n",
      "\n",
      " Second order Backwards difference: -0.8781250000000007, with error: 3.7671232876711525 %\n",
      "\n",
      "\n",
      "\n",
      " Second order Central difference: -0.9343750000000002, with error: 2.3972602739726248 %\n",
      "\n",
      "\n",
      "\n",
      " Fourth order Central difference: -0.9125000000000002, with error: 2.4333655334250006e-14 %\n",
      "\n"
     ]
    }
   ],
   "source": [
    "# Define the function\n",
    "f = lambda x:  -0.1 * x**4 - 0.15 * x**3 - 0.5 * x **2 - 0.25 * x + 1.2\n",
    "\n",
    "# Define Step size\n",
    "h = 0.25\n",
    "\n",
    "# Set point at which to evaluate the derivative\n",
    "x = 0.5\n",
    "\n",
    "## Using forward difference\n",
    "# First order\n",
    "df = (f(x + h) - f(x)) / h\n",
    "\n",
    "print(f'\\n\\n First order Forward difference: {df},' \n",
    "      +f' with error: {abs(100 * (df + 0.9125) / 0.9125)} %\\n')\n",
    "\n",
    "# Second order \n",
    "df = (-3 * f(x) - f(x + 2 * h) + 4 * f(x + h)) / (2 * h)\n",
    "\n",
    "print(f'\\n\\n Second order Forward difference: {df},' \n",
    "      +f' with error: {abs(100 * (df + 0.9125) / 0.9125)} %\\n')\n",
    "\n",
    "## Backwards difference\n",
    "# First order\n",
    "df = (-f(x - h) + f(x)) / h\n",
    "print(f'\\n\\n First order Backwards difference: {df},' \n",
    "      +f' with error: {abs(100 * (df + 0.9125) / 0.9125)} %\\n')\n",
    "\n",
    "# Second order\n",
    "df = (3*f(x) + f(x - 2*h) - 4*f(x - h)) / (2*h)\n",
    "print(f'\\n\\n Second order Backwards difference: {df},' \n",
    "      +f' with error: {abs(100 * (df + 0.9125) / 0.9125)} %\\n')\n",
    "\n",
    "## Central difference \n",
    "# Second order \n",
    "df = (f(x + h) - f(x - h)) / (2 * h)\n",
    "print(f'\\n\\n Second order Central difference: {df},' \n",
    "      +f' with error: {abs(100 * (df + 0.9125) / 0.9125)} %\\n')\n",
    "\n",
    "# Fourth order \n",
    "df = (-f(x + 2*h) + 8*f(x + h) -8*f(x - h) + f(x - 2*h)) / (12*h)\n",
    "print(f'\\n\\n Fourth order Central difference: {df},' \n",
    "      +f' with error: {abs(100 * (df + 0.9125) / 0.9125)} %\\n')\n"
   ]
  }
 ],
 "metadata": {
  "kernelspec": {
   "display_name": "py3ml",
   "language": "python",
   "name": "py3ml"
  },
  "language_info": {
   "codemirror_mode": {
    "name": "ipython",
    "version": 3
   },
   "file_extension": ".py",
   "mimetype": "text/x-python",
   "name": "python",
   "nbconvert_exporter": "python",
   "pygments_lexer": "ipython3",
   "version": "3.9.12"
  }
 },
 "nbformat": 4,
 "nbformat_minor": 5
}
