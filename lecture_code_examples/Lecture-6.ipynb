{
 "cells": [
  {
   "cell_type": "code",
   "execution_count": 2,
   "id": "230fd792-23a9-4105-b81e-ff50d16bb65b",
   "metadata": {},
   "outputs": [],
   "source": [
    "%reload_ext autoreload\n",
    "%autoreload 2\n",
    "import numpy as np\n",
    "from utils import radd"
   ]
  },
  {
   "cell_type": "markdown",
   "id": "35868d60-8990-4e6b-83f5-3575686365f7",
   "metadata": {},
   "source": [
    "## Example: Ill-Conditioned System"
   ]
  },
  {
   "cell_type": "code",
   "execution_count": 19,
   "id": "50cee2d0-190b-47d8-bc19-035a8d376526",
   "metadata": {},
   "outputs": [
    {
     "name": "stderr",
     "output_type": "stream",
     "text": [
      "/var/folders/vx/p2vsss_n7nl9_h99z877fz440000gn/T/ipykernel_3755/1025162254.py:20: RuntimeWarning: divide by zero encountered in true_divide\n",
      "  x[1] = b[1] / a[1, 1]\n"
     ]
    },
    {
     "data": {
      "text/plain": [
       "array([nan, inf])"
      ]
     },
     "execution_count": 19,
     "metadata": {},
     "output_type": "execute_result"
    }
   ],
   "source": [
    "n = 4\n",
    "a = np.c_[np.c_[1., 1.].T, np.c_[1., 1.0001].T]\n",
    "b = np.stack([1, 2])\n",
    "\n",
    "ai = np.linalg.inv(a)\n",
    "a_nrm = np.maximum(np.abs(a[0, 0]) + np.abs(a[0, 1]),\n",
    "               np.abs(a[1, 0]) + np.abs(a[1, 1]))\n",
    "ai_nrm = np.maximum(np.abs(a[0, 0]) + np.abs(a[0, 1]),\n",
    "                np.abs(a[1, 0]) + np.abs(a[1, 1]))\n",
    "k = a_nrm * ai_nrm\n",
    "r = ai * b\n",
    "\n",
    "x = np.array([0., 0.])\n",
    "m21 = a[1, 0] / a[0, 0]\n",
    "a[1, 0] = 0\n",
    "\n",
    "a[1, 1] = radd(a[1, 1], -m21 * a[0, 1], n)\n",
    "\n",
    "b[1] = radd(b[1], -m21 * b[0], n)\n",
    "x[1] = b[1] / a[1, 1]\n",
    "x[0] =radd(b[0], -a[0, 1] * x[1], n) / a[0, 0]\n",
    "x"
   ]
  },
  {
   "cell_type": "markdown",
   "id": "b72fb681-be30-4617-a72c-563ba52770ba",
   "metadata": {},
   "source": [
    "## Example: Better-Conditioned System"
   ]
  },
  {
   "cell_type": "code",
   "execution_count": 25,
   "id": "558ef316-f48c-4242-9042-65c5db76664a",
   "metadata": {},
   "outputs": [
    {
     "data": {
      "text/plain": [
       "array([-10000,      2])"
      ]
     },
     "execution_count": 25,
     "metadata": {},
     "output_type": "execute_result"
    }
   ],
   "source": [
    "n=4\n",
    "a = np.c_[np.c_[0.0001, 1.0].T, np.c_[1.0, 1.0].T]\n",
    "b = np.c_[1, 2].T\n",
    "\n",
    "ai = np.linalg.inv(a)\n",
    "a_nrm = np.max(\n",
    "    np.abs(a[0, 0]) \n",
    "    + np.abs(a[0, 1])\n",
    "    + np.abs(a[1, 0])\n",
    "    + np.abs(a[1, 1])\n",
    ")\n",
    "ai_nrm = np.max(\n",
    "    np.abs(ai[0, 0]) \n",
    "    + np.abs(ai[0, 1])\n",
    "    + np.abs(ai[1, 0])\n",
    "    + np.abs(ai[1, 1])\n",
    ")\n",
    "k = a_nrm * ai_nrm\n",
    "r = ai * b\n",
    "x = np.r_[0, 0]\n",
    "m21 = a[1, 0] / a[0, 0]\n",
    "a[1, 0] = 0\n",
    "a[1, 1] = radd(a[1, 1], -m21 * a[0, 1], n)\n",
    "b[1] = radd(b[1], -m21 * b[1], n)\n",
    "x[1] = b[1] / a[1, 1]\n",
    "x[0] = radd(b[0], -a[0, 1] * x[1] , n) / a[0, 0]\n",
    "x\n"
   ]
  }
 ],
 "metadata": {
  "kernelspec": {
   "display_name": "py3ml",
   "language": "python",
   "name": "py3ml"
  },
  "language_info": {
   "codemirror_mode": {
    "name": "ipython",
    "version": 3
   },
   "file_extension": ".py",
   "mimetype": "text/x-python",
   "name": "python",
   "nbconvert_exporter": "python",
   "pygments_lexer": "ipython3",
   "version": "3.9.12"
  }
 },
 "nbformat": 4,
 "nbformat_minor": 5
}
